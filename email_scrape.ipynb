{
 "cells": [
  {
   "cell_type": "code",
   "execution_count": 1,
   "metadata": {},
   "outputs": [
    {
     "name": "stdout",
     "output_type": "stream",
     "text": [
      "{'name': ['Bryan Foreman', 'Doug Kose', 'Dale Shepherd', 'Ryan LaPrad', 'Patrick Seitz', 'Paul Semenoff', 'Matt Randall', 'Russell Carriere', 'Brad Smith', 'Paul Zorich', 'Kelly Schmidt', 'Jon Harris', 'Michael Tidwell', 'Denise Moseley', 'Patrick Marsch', 'Jim Shaub', 'Ramon Sanchez-Vinas', 'Kyle Robeson', 'Jana Truman', 'Demesvar Noel', 'Matthew Cooper', 'William Walker', 'Jon Lowrance', 'Arlene Sanchez-Vinas', 'Jacobie Olin', 'Kimberly Beddor', 'Daniel Askew', 'Kelvin Woods', 'Brad Spear', 'Ronald Edmonds', 'Karen Schorkopf', 'Robert Scarlata', 'Dean Jones', 'Daniel Beverly', 'Tim Varney'], 'link': ['https://www.ibba.org/broker-profile/tennessee/nashville/bryan-foreman/', 'https://www.ibba.org/broker-profile/tennessee/knoxville/doug-kose/', 'https://www.ibba.org/broker-profile/tennessee/kingsport/dale-shepherd/', 'https://www.ibba.org/broker-profile/tennessee/brentwood/ryan-laprad/', 'https://www.ibba.org/broker-profile/tennessee/hixson/patrick-seitz/', 'https://www.ibba.org/broker-profile/tennessee/athens/paul-semenoff/', 'https://www.ibba.org/broker-profile/tennessee/nashville/matt-randall/', 'https://www.ibba.org/broker-profile/tennessee/franklin/russell-carriere/', 'https://www.ibba.org/broker-profile/tennessee/franklin/brad-smith/', 'https://www.ibba.org/broker-profile/tennessee/franklin/paul-zorich/', 'https://www.ibba.org/broker-profile/tennessee/franklin/kelly-schmidt/', 'https://www.ibba.org/broker-profile/tennessee/tullahoma/jon-harris/', 'https://www.ibba.org/broker-profile/tennessee/nashville/michael-tidwell/', 'https://www.ibba.org/broker-profile/tennessee/knoxville/denise-moseley/', 'https://www.ibba.org/broker-profile/tennessee/nashville/patrick-marsch/', 'https://www.ibba.org/broker-profile/tennessee/nashville/jim-shaub/', 'https://www.ibba.org/broker-profile/tennessee/johnson-city/ramon-sanchez-vinas/', 'https://www.ibba.org/broker-profile/tennessee/brentwood/kyle-robeson/', 'https://www.ibba.org/broker-profile/tennessee/brentwood/jana-truman/', 'https://www.ibba.org/broker-profile/tennessee/chattanooga/demesvar-noel/', 'https://www.ibba.org/broker-profile/tennessee/cleveland/matthew-cooper/', 'https://www.ibba.org/broker-profile/tennessee/nashville/william-walker/', 'https://www.ibba.org/broker-profile/tennessee/nashville/jon-lowrance/', 'https://www.ibba.org/broker-profile/tennessee/johnson-city/arlene-sanchez-vinas/', 'https://www.ibba.org/broker-profile/tennessee/franklin/jacobie-olin/', 'https://www.ibba.org/broker-profile/tennessee/talbott/kimberly-beddor/', 'https://www.ibba.org/broker-profile/tennessee/nashville/daniel-askew/', 'https://www.ibba.org/broker-profile/tennessee/memphis/kelvin-woods/', 'https://www.ibba.org/broker-profile/tennessee/brentwood/brad-spear/', 'https://www.ibba.org/broker-profile/tennessee/cordova/ronald-edmonds/', 'https://www.ibba.org/broker-profile/tennessee/franklin/karen-schorkopf/', 'https://www.ibba.org/broker-profile/tennessee/nashville/robert-scarlata/', 'https://www.ibba.org/broker-profile/tennessee/memphis/dean-jones/', 'https://www.ibba.org/broker-profile/tennessee/johnson-city/daniel-beverly/', 'https://www.ibba.org/broker-profile/tennessee/knoxville/tim-varney/']}\n"
     ]
    }
   ],
   "source": [
    "from selenium import webdriver\n",
    "from bs4 import BeautifulSoup\n",
    "\n",
    "driver = webdriver.Chrome()  \n",
    "\n",
    "url = 'https://www.ibba.org/state/tennessee/'\n",
    "\n",
    "driver.get(url)\n",
    "\n",
    "driver.implicitly_wait(5) \n",
    "\n",
    "html_content = driver.page_source\n",
    "\n",
    "soup = BeautifulSoup(html_content, 'html.parser')\n",
    "\n",
    "profile = {\n",
    "    'name': [],\n",
    "    'link': []\n",
    "}\n",
    "\n",
    "brokers_boxes = soup.find_all('div', class_='brokers__box')\n",
    "\n",
    "for box in brokers_boxes:\n",
    "    name_tag = box.find('h4', class_='brokers__item--topTitle')\n",
    "    name = name_tag.get_text(strip=True) if name_tag else 'N/A'\n",
    "\n",
    "    link_tag = box.find('a', class_='brokers__item--link')\n",
    "    link_href = link_tag['href'] if link_tag else 'N/A'\n",
    "\n",
    "    profile['name'].append(name)\n",
    "    profile['link'].append(link_href)\n",
    "\n",
    "driver.quit()\n",
    "\n",
    "print(profile)\n"
   ]
  },
  {
   "cell_type": "code",
   "execution_count": 2,
   "metadata": {},
   "outputs": [
    {
     "ename": "IndexError",
     "evalue": "list index out of range",
     "output_type": "error",
     "traceback": [
      "\u001b[0;31m---------------------------------------------------------------------------\u001b[0m",
      "\u001b[0;31mIndexError\u001b[0m                                Traceback (most recent call last)",
      "Cell \u001b[0;32mIn[2], line 30\u001b[0m\n\u001b[1;32m     28\u001b[0m         \u001b[38;5;28mprint\u001b[39m(\u001b[38;5;124m\"\u001b[39m\u001b[38;5;124mLink tag not found.\u001b[39m\u001b[38;5;124m\"\u001b[39m)\n\u001b[1;32m     29\u001b[0m \u001b[38;5;28;01melse\u001b[39;00m:\n\u001b[0;32m---> 30\u001b[0m     link_tag \u001b[38;5;241m=\u001b[39m \u001b[43mlocation\u001b[49m\u001b[43m[\u001b[49m\u001b[38;5;241;43m0\u001b[39;49m\u001b[43m]\u001b[49m\u001b[38;5;241m.\u001b[39mfind(\u001b[38;5;124m'\u001b[39m\u001b[38;5;124ma\u001b[39m\u001b[38;5;124m'\u001b[39m)\n\u001b[1;32m     31\u001b[0m     \u001b[38;5;28;01mif\u001b[39;00m link_tag:\n\u001b[1;32m     32\u001b[0m         email_text \u001b[38;5;241m=\u001b[39m link_tag\u001b[38;5;241m.\u001b[39mget_text(strip\u001b[38;5;241m=\u001b[39m\u001b[38;5;28;01mTrue\u001b[39;00m)\n",
      "\u001b[0;31mIndexError\u001b[0m: list index out of range"
     ]
    }
   ],
   "source": [
    "email_list = []\n",
    "\n",
    "for each_link in profile['link']:\n",
    "    # Initialize the WebDriver (ensure you have the correct path or it's in PATH)\n",
    "    driver = webdriver.Chrome()\n",
    "\n",
    "    try:\n",
    "        url = each_link\n",
    "        driver.get(url)\n",
    "\n",
    "        driver.implicitly_wait(10)  # Wait for the page to load\n",
    "\n",
    "        html_content = driver.page_source\n",
    "\n",
    "        # Use BeautifulSoup to parse the page content\n",
    "        soup = BeautifulSoup(html_content, 'html.parser')\n",
    "\n",
    "        # Find the desired element\n",
    "        location = soup.find_all('div', class_='brokers__profile--leftPhone')\n",
    "        if location and len(location) > 1:\n",
    "            link_tag = location[1].find('a')\n",
    "            if link_tag:\n",
    "                # Extract the text content from the <a> tag\n",
    "                email_text = link_tag.get_text(strip=True)\n",
    "                print(email_text)\n",
    "                email_list.append(email_text)\n",
    "            else:\n",
    "                print(\"Link tag not found.\")\n",
    "        else:\n",
    "            link_tag = location[0].find('a')\n",
    "            if link_tag:\n",
    "                email_text = link_tag.get_text(strip=True)\n",
    "                print(email_text)\n",
    "                email_list.append(email_text)\n",
    "    finally:\n",
    "        driver.quit()\n"
   ]
  },
  {
   "cell_type": "code",
   "execution_count": null,
   "metadata": {},
   "outputs": [
    {
     "data": {
      "text/html": [
       "<div>\n",
       "<style scoped>\n",
       "    .dataframe tbody tr th:only-of-type {\n",
       "        vertical-align: middle;\n",
       "    }\n",
       "\n",
       "    .dataframe tbody tr th {\n",
       "        vertical-align: top;\n",
       "    }\n",
       "\n",
       "    .dataframe thead th {\n",
       "        text-align: right;\n",
       "    }\n",
       "</style>\n",
       "<table border=\"1\" class=\"dataframe\">\n",
       "  <thead>\n",
       "    <tr style=\"text-align: right;\">\n",
       "      <th></th>\n",
       "      <th>name</th>\n",
       "      <th>link</th>\n",
       "      <th>emails</th>\n",
       "    </tr>\n",
       "  </thead>\n",
       "  <tbody>\n",
       "    <tr>\n",
       "      <th>0</th>\n",
       "      <td>Samuel Meister</td>\n",
       "      <td>https://www.ibba.org/broker-profile/pennsylvan...</td>\n",
       "      <td>Samuel.Meister@fcbb.com</td>\n",
       "    </tr>\n",
       "    <tr>\n",
       "      <th>1</th>\n",
       "      <td>Jeff MacAdam</td>\n",
       "      <td>https://www.ibba.org/broker-profile/pennsylvan...</td>\n",
       "      <td>jeff@bridlebrookgroup.com</td>\n",
       "    </tr>\n",
       "    <tr>\n",
       "      <th>2</th>\n",
       "      <td>James Eshleman</td>\n",
       "      <td>https://www.ibba.org/broker-profile/pennsylvan...</td>\n",
       "      <td>jim@strategicendeavors.com</td>\n",
       "    </tr>\n",
       "    <tr>\n",
       "      <th>3</th>\n",
       "      <td>Bernard Siegel</td>\n",
       "      <td>https://www.ibba.org/broker-profile/pennsylvan...</td>\n",
       "      <td>bsiegel@siegelfg.com</td>\n",
       "    </tr>\n",
       "    <tr>\n",
       "      <th>4</th>\n",
       "      <td>Robert McCormack</td>\n",
       "      <td>https://www.ibba.org/broker-profile/pennsylvan...</td>\n",
       "      <td>bmccormack@murphymccormack.com</td>\n",
       "    </tr>\n",
       "  </tbody>\n",
       "</table>\n",
       "</div>"
      ],
      "text/plain": [
       "               name                                               link  \\\n",
       "0    Samuel Meister  https://www.ibba.org/broker-profile/pennsylvan...   \n",
       "1      Jeff MacAdam  https://www.ibba.org/broker-profile/pennsylvan...   \n",
       "2    James Eshleman  https://www.ibba.org/broker-profile/pennsylvan...   \n",
       "3    Bernard Siegel  https://www.ibba.org/broker-profile/pennsylvan...   \n",
       "4  Robert McCormack  https://www.ibba.org/broker-profile/pennsylvan...   \n",
       "\n",
       "                           emails  \n",
       "0         Samuel.Meister@fcbb.com  \n",
       "1       jeff@bridlebrookgroup.com  \n",
       "2      jim@strategicendeavors.com  \n",
       "3            bsiegel@siegelfg.com  \n",
       "4  bmccormack@murphymccormack.com  "
      ]
     },
     "execution_count": 3,
     "metadata": {},
     "output_type": "execute_result"
    }
   ],
   "source": [
    "profile['emails'] = email_list \n",
    "import pandas as pd\n",
    "df = pd.DataFrame(profile)\n",
    "df.head()"
   ]
  },
  {
   "cell_type": "code",
   "execution_count": null,
   "metadata": {},
   "outputs": [],
   "source": [
    "df.to_excel('tennessee_email.xlsx')"
   ]
  }
 ],
 "metadata": {
  "kernelspec": {
   "display_name": "Python 3",
   "language": "python",
   "name": "python3"
  },
  "language_info": {
   "codemirror_mode": {
    "name": "ipython",
    "version": 3
   },
   "file_extension": ".py",
   "mimetype": "text/x-python",
   "name": "python",
   "nbconvert_exporter": "python",
   "pygments_lexer": "ipython3",
   "version": "3.12.4"
  }
 },
 "nbformat": 4,
 "nbformat_minor": 2
}
