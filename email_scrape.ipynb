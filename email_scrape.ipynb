{
 "cells": [
  {
   "cell_type": "code",
   "execution_count": 1,
   "metadata": {},
   "outputs": [
    {
     "name": "stdout",
     "output_type": "stream",
     "text": [
      "{'name': ['Samuel Meister', 'Jeff MacAdam', 'James Eshleman', 'Bernard Siegel', 'Robert McCormack', 'Cristopher Maragos', 'cory hoffman', 'Steven Rosen', 'Gary Papay', 'Justin Staub', 'William Ilgenfritz', 'Moe HASSAN', 'Peter Becchina', 'Joseph Guarino', 'Laura Hoyer', 'Hitesh Patel', 'Art Blumenthal', 'Troy Duffan', 'Daniel Haggerty', 'David Ball', 'Jason Hubler DBA CVA', 'Tom Price', 'Ed OSullivan', 'Larry Price', 'Edward Landau', 'Richard Collins', 'Matthew Caiazza', 'Scott Glover', 'William Doyle'], 'link': ['https://www.ibba.org/broker-profile/pennsylvania/pittsburgh/samuel-meister/', 'https://www.ibba.org/broker-profile/pennsylvania/broomall/jeff-macadam/', 'https://www.ibba.org/broker-profile/pennsylvania/lancaster/james-eshleman/', 'https://www.ibba.org/broker-profile/pennsylvania/king-of-prussia/bernard-siegel/', 'https://www.ibba.org/broker-profile/pennsylvania/lewisburg/robert-mccormack/', 'https://www.ibba.org/broker-profile/pennsylvania/pittsburgh/cristopher-maragos/', 'https://www.ibba.org/broker-profile/pennsylvania/pittsburgh/cory-hoffman/', 'https://www.ibba.org/broker-profile/pennsylvania/blue-bell/steven-rosen/', 'https://www.ibba.org/broker-profile/pennsylvania/hughesville/gary-papay/', 'https://www.ibba.org/broker-profile/pennsylvania/carlisle/justin-staub/', 'https://www.ibba.org/broker-profile/pennsylvania/cranberry-twp/william-ilgenfritz/', 'https://www.ibba.org/broker-profile/pennsylvania/harrisburg/moe-hassan/', 'https://www.ibba.org/broker-profile/pennsylvania/blue-bell/peter-becchina/', 'https://www.ibba.org/broker-profile/pennsylvania/lancaster/joseph-guarino/', 'https://www.ibba.org/broker-profile/pennsylvania/radnor/laura-hoyer/', 'https://www.ibba.org/broker-profile/pennsylvania/camp-hill/hitesh-patel/', 'https://www.ibba.org/broker-profile/pennsylvania/malvern/art-blumenthal/', 'https://www.ibba.org/broker-profile/pennsylvania/wexford/troy-duffan/', 'https://www.ibba.org/broker-profile/pennsylvania/clarks-summit/daniel-haggerty/', 'https://www.ibba.org/broker-profile/pennsylvania/irwin/david-ball/', 'https://www.ibba.org/broker-profile/pennsylvania/york/jason-hubler-dba-cva/', 'https://www.ibba.org/broker-profile/pennsylvania/lewisburg/tom-price/', 'https://www.ibba.org/broker-profile/pennsylvania/newtown/ed-osullivan/', 'https://www.ibba.org/broker-profile/pennsylvania/meadville/larry-price/', 'https://www.ibba.org/broker-profile/pennsylvania/newtown/edward-landau/', 'https://www.ibba.org/broker-profile/pennsylvania/fort-washington/richard-collins/', 'https://www.ibba.org/broker-profile/pennsylvania/pittsburgh/matthew-caiazza/', 'https://www.ibba.org/broker-profile/pennsylvania/new-kensington/scott-glover/', 'https://www.ibba.org/broker-profile/pennsylvania/broomall/william-doyle/']}\n"
     ]
    }
   ],
   "source": [
    "from selenium import webdriver\n",
    "from bs4 import BeautifulSoup\n",
    "\n",
    "driver = webdriver.Chrome()  \n",
    "\n",
    "url = 'https://www.ibba.org/state/pennsylvania/'\n",
    "\n",
    "driver.get(url)\n",
    "\n",
    "driver.implicitly_wait(5) \n",
    "\n",
    "html_content = driver.page_source\n",
    "\n",
    "soup = BeautifulSoup(html_content, 'html.parser')\n",
    "\n",
    "profile = {\n",
    "    'name': [],\n",
    "    'link': []\n",
    "}\n",
    "\n",
    "brokers_boxes = soup.find_all('div', class_='brokers__box')\n",
    "\n",
    "for box in brokers_boxes:\n",
    "    name_tag = box.find('h4', class_='brokers__item--topTitle')\n",
    "    name = name_tag.get_text(strip=True) if name_tag else 'N/A'\n",
    "\n",
    "    link_tag = box.find('a', class_='brokers__item--link')\n",
    "    link_href = link_tag['href'] if link_tag else 'N/A'\n",
    "\n",
    "    profile['name'].append(name)\n",
    "    profile['link'].append(link_href)\n",
    "\n",
    "driver.quit()\n",
    "\n",
    "print(profile)\n"
   ]
  },
  {
   "cell_type": "code",
   "execution_count": 2,
   "metadata": {},
   "outputs": [
    {
     "name": "stdout",
     "output_type": "stream",
     "text": [
      "Samuel.Meister@fcbb.com\n",
      "jeff@bridlebrookgroup.com\n",
      "jim@strategicendeavors.com\n",
      "bsiegel@siegelfg.com\n",
      "bmccormack@murphymccormack.com\n",
      "cmaragos@TMbusinessbrokers.com\n",
      "coryhoffman@fcbb.com\n",
      "sarosen@sunbeltnetwork.com\n",
      "GPapay@ibgbusiness.com\n",
      "justin@jsbusinesssolution.com\n",
      "w.ilgenfritz@murphybusiness.com\n",
      "hassanm@tworld.com\n",
      "pete@exitplanspecialist.com\n",
      "joseph.guarino@linkbusiness.com\n",
      "lhoyer@tworld.com\n",
      "hpatel@transworldpa.com\n",
      "art@art-blumenthal.com\n",
      "Troy@Sofrankoadvisors.com\n",
      "info@pmjproductions.com\n",
      "daveb@sunbeltnetwork.com\n",
      "jason@ESS-Business.com\n",
      "tprice@murphymccormack.com\n",
      "eosullivan@vrbuckscounty.com\n",
      "loprice20@gmail.com\n",
      "elandau@calderassociates.com\n",
      "rcollins@tworld.com\n",
      "matt@mtabusinessbrokers.com\n",
      "scott.glover@expcommercial.com\n",
      "bill@bridlebrookgroup.com\n"
     ]
    }
   ],
   "source": [
    "email_list = []\n",
    "\n",
    "for each_link in profile['link']:\n",
    "    # Initialize the WebDriver (ensure you have the correct path or it's in PATH)\n",
    "    driver = webdriver.Chrome()\n",
    "\n",
    "    try:\n",
    "        url = each_link\n",
    "        driver.get(url)\n",
    "\n",
    "        driver.implicitly_wait(10)  # Wait for the page to load\n",
    "\n",
    "        html_content = driver.page_source\n",
    "\n",
    "        # Use BeautifulSoup to parse the page content\n",
    "        soup = BeautifulSoup(html_content, 'html.parser')\n",
    "\n",
    "        # Find the desired element\n",
    "        location = soup.find_all('div', class_='brokers__profile--leftPhone')\n",
    "        if location and len(location) > 1:\n",
    "            link_tag = location[1].find('a')\n",
    "            if link_tag:\n",
    "                # Extract the text content from the <a> tag\n",
    "                email_text = link_tag.get_text(strip=True)\n",
    "                print(email_text)\n",
    "                email_list.append(email_text)\n",
    "            else:\n",
    "                print(\"Link tag not found.\")\n",
    "        else:\n",
    "            link_tag = location[0].find('a')\n",
    "            if link_tag:\n",
    "                email_text = link_tag.get_text(strip=True)\n",
    "                print(email_text)\n",
    "                email_list.append(email_text)\n",
    "    finally:\n",
    "        driver.quit()\n"
   ]
  },
  {
   "cell_type": "code",
   "execution_count": 3,
   "metadata": {},
   "outputs": [
    {
     "data": {
      "text/html": [
       "<div>\n",
       "<style scoped>\n",
       "    .dataframe tbody tr th:only-of-type {\n",
       "        vertical-align: middle;\n",
       "    }\n",
       "\n",
       "    .dataframe tbody tr th {\n",
       "        vertical-align: top;\n",
       "    }\n",
       "\n",
       "    .dataframe thead th {\n",
       "        text-align: right;\n",
       "    }\n",
       "</style>\n",
       "<table border=\"1\" class=\"dataframe\">\n",
       "  <thead>\n",
       "    <tr style=\"text-align: right;\">\n",
       "      <th></th>\n",
       "      <th>name</th>\n",
       "      <th>link</th>\n",
       "      <th>emails</th>\n",
       "    </tr>\n",
       "  </thead>\n",
       "  <tbody>\n",
       "    <tr>\n",
       "      <th>0</th>\n",
       "      <td>Samuel Meister</td>\n",
       "      <td>https://www.ibba.org/broker-profile/pennsylvan...</td>\n",
       "      <td>Samuel.Meister@fcbb.com</td>\n",
       "    </tr>\n",
       "    <tr>\n",
       "      <th>1</th>\n",
       "      <td>Jeff MacAdam</td>\n",
       "      <td>https://www.ibba.org/broker-profile/pennsylvan...</td>\n",
       "      <td>jeff@bridlebrookgroup.com</td>\n",
       "    </tr>\n",
       "    <tr>\n",
       "      <th>2</th>\n",
       "      <td>James Eshleman</td>\n",
       "      <td>https://www.ibba.org/broker-profile/pennsylvan...</td>\n",
       "      <td>jim@strategicendeavors.com</td>\n",
       "    </tr>\n",
       "    <tr>\n",
       "      <th>3</th>\n",
       "      <td>Bernard Siegel</td>\n",
       "      <td>https://www.ibba.org/broker-profile/pennsylvan...</td>\n",
       "      <td>bsiegel@siegelfg.com</td>\n",
       "    </tr>\n",
       "    <tr>\n",
       "      <th>4</th>\n",
       "      <td>Robert McCormack</td>\n",
       "      <td>https://www.ibba.org/broker-profile/pennsylvan...</td>\n",
       "      <td>bmccormack@murphymccormack.com</td>\n",
       "    </tr>\n",
       "  </tbody>\n",
       "</table>\n",
       "</div>"
      ],
      "text/plain": [
       "               name                                               link  \\\n",
       "0    Samuel Meister  https://www.ibba.org/broker-profile/pennsylvan...   \n",
       "1      Jeff MacAdam  https://www.ibba.org/broker-profile/pennsylvan...   \n",
       "2    James Eshleman  https://www.ibba.org/broker-profile/pennsylvan...   \n",
       "3    Bernard Siegel  https://www.ibba.org/broker-profile/pennsylvan...   \n",
       "4  Robert McCormack  https://www.ibba.org/broker-profile/pennsylvan...   \n",
       "\n",
       "                           emails  \n",
       "0         Samuel.Meister@fcbb.com  \n",
       "1       jeff@bridlebrookgroup.com  \n",
       "2      jim@strategicendeavors.com  \n",
       "3            bsiegel@siegelfg.com  \n",
       "4  bmccormack@murphymccormack.com  "
      ]
     },
     "execution_count": 3,
     "metadata": {},
     "output_type": "execute_result"
    }
   ],
   "source": [
    "profile['emails'] = email_list \n",
    "import pandas as pd\n",
    "df = pd.DataFrame(profile)\n",
    "df.head()"
   ]
  },
  {
   "cell_type": "code",
   "execution_count": 4,
   "metadata": {},
   "outputs": [],
   "source": [
    "df.to_excel('pennsylvania_email.xlsx')"
   ]
  }
 ],
 "metadata": {
  "kernelspec": {
   "display_name": "Python 3",
   "language": "python",
   "name": "python3"
  },
  "language_info": {
   "codemirror_mode": {
    "name": "ipython",
    "version": 3
   },
   "file_extension": ".py",
   "mimetype": "text/x-python",
   "name": "python",
   "nbconvert_exporter": "python",
   "pygments_lexer": "ipython3",
   "version": "3.12.1"
  }
 },
 "nbformat": 4,
 "nbformat_minor": 2
}
