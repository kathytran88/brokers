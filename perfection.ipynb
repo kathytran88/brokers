{
 "cells": [
  {
   "cell_type": "code",
   "execution_count": 1,
   "metadata": {},
   "outputs": [],
   "source": [
    "import pandas as pd"
   ]
  },
  {
   "cell_type": "code",
   "execution_count": 2,
   "metadata": {},
   "outputs": [],
   "source": [
    "df = pd.read_excel('official.xlsx')"
   ]
  },
  {
   "cell_type": "code",
   "execution_count": 3,
   "metadata": {},
   "outputs": [
    {
     "data": {
      "text/html": [
       "<div>\n",
       "<style scoped>\n",
       "    .dataframe tbody tr th:only-of-type {\n",
       "        vertical-align: middle;\n",
       "    }\n",
       "\n",
       "    .dataframe tbody tr th {\n",
       "        vertical-align: top;\n",
       "    }\n",
       "\n",
       "    .dataframe thead th {\n",
       "        text-align: right;\n",
       "    }\n",
       "</style>\n",
       "<table border=\"1\" class=\"dataframe\">\n",
       "  <thead>\n",
       "    <tr style=\"text-align: right;\">\n",
       "      <th></th>\n",
       "      <th>Company</th>\n",
       "      <th>First Name</th>\n",
       "      <th>Last Name</th>\n",
       "      <th>Full Name</th>\n",
       "      <th>Email</th>\n",
       "      <th>Corporate Phone</th>\n",
       "      <th>Location</th>\n",
       "      <th>City</th>\n",
       "      <th>State</th>\n",
       "      <th>Profile Link</th>\n",
       "    </tr>\n",
       "  </thead>\n",
       "  <tbody>\n",
       "    <tr>\n",
       "      <th>0</th>\n",
       "      <td>Vision Fox Business Advisors</td>\n",
       "      <td>Michael</td>\n",
       "      <td>Steward</td>\n",
       "      <td>Michael Steward</td>\n",
       "      <td>Mike@visionfox.com</td>\n",
       "      <td>+1 251-752-3550</td>\n",
       "      <td>Gulf Shores, Alabama</td>\n",
       "      <td>Gulf Shores</td>\n",
       "      <td>Alabama</td>\n",
       "      <td>https://www.ibba.org/broker-profile/alabama/gu...</td>\n",
       "    </tr>\n",
       "    <tr>\n",
       "      <th>1</th>\n",
       "      <td>eXp Commercial LLC</td>\n",
       "      <td>Keith</td>\n",
       "      <td>Andrews</td>\n",
       "      <td>Keith Andrews</td>\n",
       "      <td>keith.andrews@expcommercial.com</td>\n",
       "      <td>+1 205-451-8889</td>\n",
       "      <td>Hoover, Alabama</td>\n",
       "      <td>Hoover</td>\n",
       "      <td>Alabama</td>\n",
       "      <td>https://www.ibba.org/broker-profile/alabama/ho...</td>\n",
       "    </tr>\n",
       "    <tr>\n",
       "      <th>2</th>\n",
       "      <td>William Bruce Business Sales &amp; Acquisitions, LLC</td>\n",
       "      <td>William</td>\n",
       "      <td>Bruce</td>\n",
       "      <td>William Bruce</td>\n",
       "      <td>Will@WilliamBruce.org</td>\n",
       "      <td>+1 251-990-5934</td>\n",
       "      <td>Fairhope, Alabama</td>\n",
       "      <td>Fairhope</td>\n",
       "      <td>Alabama</td>\n",
       "      <td>https://www.ibba.org/broker-profile/alabama/fa...</td>\n",
       "    </tr>\n",
       "    <tr>\n",
       "      <th>3</th>\n",
       "      <td>Transworld Business Advisors of North Central ...</td>\n",
       "      <td>Philip</td>\n",
       "      <td>Webb</td>\n",
       "      <td>Philip Webb</td>\n",
       "      <td>pwebb@tworld.com</td>\n",
       "      <td>+1 205-414-7596</td>\n",
       "      <td>Birmingham, Alabama</td>\n",
       "      <td>Birmingham</td>\n",
       "      <td>Alabama</td>\n",
       "      <td>https://www.ibba.org/broker-profile/alabama/bi...</td>\n",
       "    </tr>\n",
       "    <tr>\n",
       "      <th>4</th>\n",
       "      <td>Scott W Myers</td>\n",
       "      <td>Scott</td>\n",
       "      <td>Myers</td>\n",
       "      <td>Scott Myers</td>\n",
       "      <td>scott.w.myers@expcommercial.com</td>\n",
       "      <td>+1 205-616-1445</td>\n",
       "      <td>Birmingham, Alabama</td>\n",
       "      <td>Birmingham</td>\n",
       "      <td>Alabama</td>\n",
       "      <td>https://www.ibba.org/broker-profile/alabama/bi...</td>\n",
       "    </tr>\n",
       "  </tbody>\n",
       "</table>\n",
       "</div>"
      ],
      "text/plain": [
       "                                             Company First Name Last Name  \\\n",
       "0                       Vision Fox Business Advisors    Michael   Steward   \n",
       "1                                 eXp Commercial LLC      Keith   Andrews   \n",
       "2   William Bruce Business Sales & Acquisitions, LLC    William     Bruce   \n",
       "3  Transworld Business Advisors of North Central ...     Philip      Webb   \n",
       "4                                      Scott W Myers      Scott     Myers   \n",
       "\n",
       "         Full Name                            Email  Corporate Phone  \\\n",
       "0  Michael Steward               Mike@visionfox.com  +1 251-752-3550   \n",
       "1    Keith Andrews  keith.andrews@expcommercial.com  +1 205-451-8889   \n",
       "2    William Bruce            Will@WilliamBruce.org  +1 251-990-5934   \n",
       "3      Philip Webb                 pwebb@tworld.com  +1 205-414-7596   \n",
       "4      Scott Myers  scott.w.myers@expcommercial.com  +1 205-616-1445   \n",
       "\n",
       "               Location         City     State  \\\n",
       "0  Gulf Shores, Alabama  Gulf Shores   Alabama   \n",
       "1       Hoover, Alabama       Hoover   Alabama   \n",
       "2     Fairhope, Alabama     Fairhope   Alabama   \n",
       "3   Birmingham, Alabama   Birmingham   Alabama   \n",
       "4   Birmingham, Alabama   Birmingham   Alabama   \n",
       "\n",
       "                                        Profile Link  \n",
       "0  https://www.ibba.org/broker-profile/alabama/gu...  \n",
       "1  https://www.ibba.org/broker-profile/alabama/ho...  \n",
       "2  https://www.ibba.org/broker-profile/alabama/fa...  \n",
       "3  https://www.ibba.org/broker-profile/alabama/bi...  \n",
       "4  https://www.ibba.org/broker-profile/alabama/bi...  "
      ]
     },
     "execution_count": 3,
     "metadata": {},
     "output_type": "execute_result"
    }
   ],
   "source": [
    "df.head()"
   ]
  },
  {
   "cell_type": "code",
   "execution_count": 4,
   "metadata": {},
   "outputs": [
    {
     "data": {
      "text/plain": [
       "<bound method DataFrame.info of                                                 Company First Name  Last Name  \\\n",
       "0                          Vision Fox Business Advisors    Michael    Steward   \n",
       "1                                    eXp Commercial LLC      Keith    Andrews   \n",
       "2      William Bruce Business Sales & Acquisitions, LLC    William      Bruce   \n",
       "3     Transworld Business Advisors of North Central ...     Philip       Webb   \n",
       "4                                         Scott W Myers      Scott      Myers   \n",
       "...                                                 ...        ...        ...   \n",
       "2577                           Michael Hoesly - retired    Michael     Hoesly   \n",
       "2578                     Collaborative Commercial, LLC.      Jason      Huett   \n",
       "2579                Cornerstone Business Services, Inc.      Scott    Bushkie   \n",
       "2580                                EXP Commercial, LLC  Constance  Czarnecki   \n",
       "2581                        Transworld Business Adisors     Lamont   Muchmore   \n",
       "\n",
       "                Full Name                              Email  Corporate Phone  \\\n",
       "0         Michael Steward                 Mike@visionfox.com  +1 251-752-3550   \n",
       "1           Keith Andrews    keith.andrews@expcommercial.com  +1 205-451-8889   \n",
       "2           William Bruce              Will@WilliamBruce.org  +1 251-990-5934   \n",
       "3             Philip Webb                   pwebb@tworld.com  +1 205-414-7596   \n",
       "4             Scott Myers    scott.w.myers@expcommercial.com  +1 205-616-1445   \n",
       "...                   ...                                ...              ...   \n",
       "2577       Michael Hoesly                 mhoesly@hoesly.com  +1 608-845-3912   \n",
       "2578          Jason Huett  jason@collaborativecommercial.com  +1 608-422-2200   \n",
       "2579        Scott Bushkie  sbushkie@cornerstone-business.com  +1 920-436-9890   \n",
       "2580  Constance Czarnecki          connieczarnecki@gmail.com  +1 866-873-0565   \n",
       "2581      Lamont Muchmore               lmuchmore@tworld.com  +1 307-421-1195   \n",
       "\n",
       "                  Location         City       State  \\\n",
       "0     Gulf Shores, Alabama  Gulf Shores     Alabama   \n",
       "1          Hoover, Alabama       Hoover     Alabama   \n",
       "2        Fairhope, Alabama     Fairhope     Alabama   \n",
       "3      Birmingham, Alabama   Birmingham     Alabama   \n",
       "4      Birmingham, Alabama   Birmingham     Alabama   \n",
       "...                    ...          ...         ...   \n",
       "2577    Madison, Wisconsin      Madison   Wisconsin   \n",
       "2578  Fitchburg, Wisconsin    Fitchburg   Wisconsin   \n",
       "2579  Green Bay, Wisconsin    Green Bay   Wisconsin   \n",
       "2580     Cheyenne, Wyoming     Cheyenne     Wyoming   \n",
       "2581     Cheyenne, Wyoming     Cheyenne     Wyoming   \n",
       "\n",
       "                                           Profile Link  \n",
       "0     https://www.ibba.org/broker-profile/alabama/gu...  \n",
       "1     https://www.ibba.org/broker-profile/alabama/ho...  \n",
       "2     https://www.ibba.org/broker-profile/alabama/fa...  \n",
       "3     https://www.ibba.org/broker-profile/alabama/bi...  \n",
       "4     https://www.ibba.org/broker-profile/alabama/bi...  \n",
       "...                                                 ...  \n",
       "2577  https://www.ibba.org/broker-profile/wisconsin/...  \n",
       "2578  https://www.ibba.org/broker-profile/wisconsin/...  \n",
       "2579  https://www.ibba.org/broker-profile/wisconsin/...  \n",
       "2580  https://www.ibba.org/broker-profile/wyoming/ch...  \n",
       "2581  https://www.ibba.org/broker-profile/wyoming/ch...  \n",
       "\n",
       "[2582 rows x 10 columns]>"
      ]
     },
     "execution_count": 4,
     "metadata": {},
     "output_type": "execute_result"
    }
   ],
   "source": [
    "df.shape \n",
    "df.info"
   ]
  },
  {
   "cell_type": "code",
   "execution_count": 6,
   "metadata": {},
   "outputs": [
    {
     "data": {
      "text/plain": [
       "Company            859\n",
       "First Name           0\n",
       "Last Name           22\n",
       "Full Name            0\n",
       "Email                5\n",
       "Corporate Phone      9\n",
       "Location             0\n",
       "City                 0\n",
       "State                0\n",
       "Profile Link         2\n",
       "dtype: int64"
      ]
     },
     "execution_count": 6,
     "metadata": {},
     "output_type": "execute_result"
    }
   ],
   "source": [
    "df.isnull().sum()"
   ]
  },
  {
   "cell_type": "code",
   "execution_count": 8,
   "metadata": {},
   "outputs": [
    {
     "name": "stdout",
     "output_type": "stream",
     "text": [
      "395               Xavier Jones\n",
      "557             Hetal Engineer\n",
      "676              Joshua Howard\n",
      "1179           Felipe Mardakis\n",
      "1949                Mark Davis\n",
      "2143                 Jing Wang\n",
      "2477                 Alan Horn\n",
      "2507            Deborah Vallez\n",
      "2518    Charles Bissel Daucort\n",
      "Name: Full Name, dtype: object\n"
     ]
    }
   ],
   "source": [
    "missing_phone_number_df = df[df['Corporate Phone'].isna()]['Full Name']\n",
    "print(missing_phone_number_df)"
   ]
  },
  {
   "cell_type": "code",
   "execution_count": null,
   "metadata": {},
   "outputs": [],
   "source": []
  },
  {
   "cell_type": "code",
   "execution_count": 9,
   "metadata": {},
   "outputs": [],
   "source": [
    "df.to_excel('official2.xlsx')"
   ]
  }
 ],
 "metadata": {
  "kernelspec": {
   "display_name": "Python 3",
   "language": "python",
   "name": "python3"
  },
  "language_info": {
   "codemirror_mode": {
    "name": "ipython",
    "version": 3
   },
   "file_extension": ".py",
   "mimetype": "text/x-python",
   "name": "python",
   "nbconvert_exporter": "python",
   "pygments_lexer": "ipython3",
   "version": "3.12.1"
  }
 },
 "nbformat": 4,
 "nbformat_minor": 2
}
