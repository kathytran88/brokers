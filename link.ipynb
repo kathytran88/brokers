{
 "cells": [
  {
   "cell_type": "code",
   "execution_count": 2,
   "metadata": {},
   "outputs": [],
   "source": [
    "import pandas as pd\n",
    "\n",
    "# Step 1: Read the Excel file into a DataFrame\n",
    "df = pd.read_excel('ibba_brokers.xlsx')\n",
    "\n",
    "# Step 2: Export to Excel with clickable links\n",
    "excel_writer = pd.ExcelWriter('ibba_broker_with_links.xlsx', engine='xlsxwriter')\n",
    "df.to_excel(excel_writer, index=False, sheet_name='Brokers')\n",
    "\n",
    "# Get the xlsxwriter workbook and worksheet objects\n",
    "workbook = excel_writer.book\n",
    "worksheet = excel_writer.sheets['Brokers']\n",
    "\n",
    "# Write the links to the Excel file, skipping NaN values\n",
    "for row_num, link in enumerate(df['profile'], start=1):\n",
    "    if pd.notna(link):\n",
    "        worksheet.write_url(row_num, df.columns.get_loc('profile'), link, string=link)\n",
    "\n",
    "# Save the Excel file\n",
    "excel_writer._save()\n"
   ]
  }
 ],
 "metadata": {
  "kernelspec": {
   "display_name": "Python 3",
   "language": "python",
   "name": "python3"
  },
  "language_info": {
   "codemirror_mode": {
    "name": "ipython",
    "version": 3
   },
   "file_extension": ".py",
   "mimetype": "text/x-python",
   "name": "python",
   "nbconvert_exporter": "python",
   "pygments_lexer": "ipython3",
   "version": "3.12.1"
  }
 },
 "nbformat": 4,
 "nbformat_minor": 2
}
