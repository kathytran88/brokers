{
 "cells": [
  {
   "cell_type": "code",
   "execution_count": 1,
   "metadata": {},
   "outputs": [
    {
     "name": "stdout",
     "output_type": "stream",
     "text": [
      "{'name': 'Constance Czarnecki', 'company': 'EXP Commercial, LLC', 'location': 'Cheyenne, Wyoming', 'phone': '866-873-0565'}\n",
      "{'name': 'Lamont Muchmore', 'company': 'Transworld Business Adisors', 'location': 'Cheyenne, Wyoming', 'phone': '3074211195'}\n"
     ]
    }
   ],
   "source": [
    "from selenium import webdriver\n",
    "from bs4 import BeautifulSoup\n",
    "\n",
    "driver = webdriver.Chrome()  \n",
    "\n",
    "url = 'https://www.ibba.org/state/wyoming/'\n",
    "\n",
    "driver.get(url)\n",
    "\n",
    "driver.implicitly_wait(10) \n",
    "\n",
    "html_content = driver.page_source\n",
    "\n",
    "soup = BeautifulSoup(html_content, 'html.parser')\n",
    "\n",
    "brokers_info = []\n",
    "\n",
    "brokers_boxes = soup.find_all('div', class_='brokers__box')\n",
    "\n",
    "for box in brokers_boxes:\n",
    "    name_tag = box.find('h4', class_='brokers__item--topTitle')\n",
    "    name = name_tag.get_text(strip=True) if name_tag else 'N/A'\n",
    "\n",
    "    company_tag = box.find('div', class_='brokers__item--company')\n",
    "    company = company_tag.get_text(strip=True) if company_tag else 'N/A'\n",
    "\n",
    "    location_tag = box.find('div', class_='brokers__item--informationCity')\n",
    "    location = location_tag.get_text(strip=True).replace('\\n', ' ').strip() if location_tag else 'N/A'\n",
    "\n",
    "    phone_tag = box.find('div', class_='brokers__item--informationPhone')\n",
    "    phone = phone_tag.find('a').get_text(strip=True) if phone_tag and phone_tag.find('a') else 'N/A'\n",
    "\n",
    "    broker_info = {\n",
    "        'name': name,\n",
    "        'company': company,\n",
    "        'location': location,\n",
    "        'phone': phone\n",
    "    }\n",
    "\n",
    "    brokers_info.append(broker_info)\n",
    "\n",
    "driver.quit()\n",
    "\n",
    "for info in brokers_info:\n",
    "    print(info)"
   ]
  },
  {
   "cell_type": "code",
   "execution_count": 2,
   "metadata": {},
   "outputs": [
    {
     "data": {
      "text/html": [
       "<div>\n",
       "<style scoped>\n",
       "    .dataframe tbody tr th:only-of-type {\n",
       "        vertical-align: middle;\n",
       "    }\n",
       "\n",
       "    .dataframe tbody tr th {\n",
       "        vertical-align: top;\n",
       "    }\n",
       "\n",
       "    .dataframe thead th {\n",
       "        text-align: right;\n",
       "    }\n",
       "</style>\n",
       "<table border=\"1\" class=\"dataframe\">\n",
       "  <thead>\n",
       "    <tr style=\"text-align: right;\">\n",
       "      <th></th>\n",
       "      <th>name</th>\n",
       "      <th>company</th>\n",
       "      <th>location</th>\n",
       "      <th>phone</th>\n",
       "    </tr>\n",
       "  </thead>\n",
       "  <tbody>\n",
       "    <tr>\n",
       "      <th>0</th>\n",
       "      <td>Constance Czarnecki</td>\n",
       "      <td>EXP Commercial, LLC</td>\n",
       "      <td>Cheyenne, Wyoming</td>\n",
       "      <td>866-873-0565</td>\n",
       "    </tr>\n",
       "    <tr>\n",
       "      <th>1</th>\n",
       "      <td>Lamont Muchmore</td>\n",
       "      <td>Transworld Business Adisors</td>\n",
       "      <td>Cheyenne, Wyoming</td>\n",
       "      <td>3074211195</td>\n",
       "    </tr>\n",
       "  </tbody>\n",
       "</table>\n",
       "</div>"
      ],
      "text/plain": [
       "                  name                      company           location  \\\n",
       "0  Constance Czarnecki          EXP Commercial, LLC  Cheyenne, Wyoming   \n",
       "1      Lamont Muchmore  Transworld Business Adisors  Cheyenne, Wyoming   \n",
       "\n",
       "          phone  \n",
       "0  866-873-0565  \n",
       "1    3074211195  "
      ]
     },
     "execution_count": 2,
     "metadata": {},
     "output_type": "execute_result"
    }
   ],
   "source": [
    "import pandas as pd\n",
    "df = pd.DataFrame(brokers_info)\n",
    "df.head()"
   ]
  },
  {
   "cell_type": "code",
   "execution_count": 3,
   "metadata": {},
   "outputs": [],
   "source": [
    "df.to_excel('wyoming_brokers.xlsx')"
   ]
  }
 ],
 "metadata": {
  "kernelspec": {
   "display_name": "Python 3",
   "language": "python",
   "name": "python3"
  },
  "language_info": {
   "codemirror_mode": {
    "name": "ipython",
    "version": 3
   },
   "file_extension": ".py",
   "mimetype": "text/x-python",
   "name": "python",
   "nbconvert_exporter": "python",
   "pygments_lexer": "ipython3",
   "version": "3.12.1"
  }
 },
 "nbformat": 4,
 "nbformat_minor": 2
}
