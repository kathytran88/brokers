{
 "cells": [
  {
   "cell_type": "code",
   "execution_count": 1,
   "metadata": {},
   "outputs": [],
   "source": [
    "import pandas as pd\n",
    "import glob"
   ]
  },
  {
   "cell_type": "code",
   "execution_count": 2,
   "metadata": {},
   "outputs": [
    {
     "data": {
      "text/html": [
       "<div>\n",
       "<style scoped>\n",
       "    .dataframe tbody tr th:only-of-type {\n",
       "        vertical-align: middle;\n",
       "    }\n",
       "\n",
       "    .dataframe tbody tr th {\n",
       "        vertical-align: top;\n",
       "    }\n",
       "\n",
       "    .dataframe thead th {\n",
       "        text-align: right;\n",
       "    }\n",
       "</style>\n",
       "<table border=\"1\" class=\"dataframe\">\n",
       "  <thead>\n",
       "    <tr style=\"text-align: right;\">\n",
       "      <th></th>\n",
       "      <th>Unnamed: 0</th>\n",
       "      <th>name</th>\n",
       "      <th>company</th>\n",
       "      <th>location</th>\n",
       "      <th>phone</th>\n",
       "    </tr>\n",
       "  </thead>\n",
       "  <tbody>\n",
       "    <tr>\n",
       "      <th>0</th>\n",
       "      <td>0</td>\n",
       "      <td>Tom Gottlieb</td>\n",
       "      <td>Berkshire Hathaway HS PRO</td>\n",
       "      <td>Mason, Ohio</td>\n",
       "      <td>5622254567</td>\n",
       "    </tr>\n",
       "    <tr>\n",
       "      <th>1</th>\n",
       "      <td>1</td>\n",
       "      <td>Christopher Goebel</td>\n",
       "      <td>Crossroads Advisers</td>\n",
       "      <td>Cleveland, Ohio</td>\n",
       "      <td>216-533-4533</td>\n",
       "    </tr>\n",
       "    <tr>\n",
       "      <th>2</th>\n",
       "      <td>2</td>\n",
       "      <td>Dan Long</td>\n",
       "      <td>Cincinnati Business Brokers</td>\n",
       "      <td>Cincinnati, Ohio</td>\n",
       "      <td>5133153006</td>\n",
       "    </tr>\n",
       "    <tr>\n",
       "      <th>3</th>\n",
       "      <td>3</td>\n",
       "      <td>Mike Lohbeck CBI</td>\n",
       "      <td>MGL Business Brokers - Sell Your Business Here</td>\n",
       "      <td>Cincinnati, Ohio</td>\n",
       "      <td>(513) 200-0247</td>\n",
       "    </tr>\n",
       "    <tr>\n",
       "      <th>4</th>\n",
       "      <td>4</td>\n",
       "      <td>Elias Ladon</td>\n",
       "      <td>Enterprise Development Resources, Inc.</td>\n",
       "      <td>Beachwood, Ohio</td>\n",
       "      <td>(216) 765-0845</td>\n",
       "    </tr>\n",
       "  </tbody>\n",
       "</table>\n",
       "</div>"
      ],
      "text/plain": [
       "   Unnamed: 0                name  \\\n",
       "0           0        Tom Gottlieb   \n",
       "1           1  Christopher Goebel   \n",
       "2           2            Dan Long   \n",
       "3           3    Mike Lohbeck CBI   \n",
       "4           4         Elias Ladon   \n",
       "\n",
       "                                          company          location  \\\n",
       "0                       Berkshire Hathaway HS PRO       Mason, Ohio   \n",
       "1                             Crossroads Advisers   Cleveland, Ohio   \n",
       "2                     Cincinnati Business Brokers  Cincinnati, Ohio   \n",
       "3  MGL Business Brokers - Sell Your Business Here  Cincinnati, Ohio   \n",
       "4          Enterprise Development Resources, Inc.   Beachwood, Ohio   \n",
       "\n",
       "            phone  \n",
       "0      5622254567  \n",
       "1    216-533-4533  \n",
       "2      5133153006  \n",
       "3  (513) 200-0247  \n",
       "4  (216) 765-0845  "
      ]
     },
     "execution_count": 2,
     "metadata": {},
     "output_type": "execute_result"
    }
   ],
   "source": [
    "# Merge files\n",
    "excel_files = glob.glob('./ibba/*.xlsx')\n",
    "all_df = []\n",
    "for file in excel_files:\n",
    "    df = pd.read_excel(file)\n",
    "    all_df.append(df)\n",
    "\n",
    "ibba = pd.concat(all_df, ignore_index = True)\n",
    "ibba.head()"
   ]
  },
  {
   "cell_type": "code",
   "execution_count": 9,
   "metadata": {},
   "outputs": [],
   "source": [
    "ibba = ibba.rename( columns = {'company': 'current company' , 'current state': 'location'})"
   ]
  },
  {
   "cell_type": "code",
   "execution_count": 10,
   "metadata": {},
   "outputs": [
    {
     "data": {
      "text/html": [
       "<div>\n",
       "<style scoped>\n",
       "    .dataframe tbody tr th:only-of-type {\n",
       "        vertical-align: middle;\n",
       "    }\n",
       "\n",
       "    .dataframe tbody tr th {\n",
       "        vertical-align: top;\n",
       "    }\n",
       "\n",
       "    .dataframe thead th {\n",
       "        text-align: right;\n",
       "    }\n",
       "</style>\n",
       "<table border=\"1\" class=\"dataframe\">\n",
       "  <thead>\n",
       "    <tr style=\"text-align: right;\">\n",
       "      <th></th>\n",
       "      <th>Unnamed: 0</th>\n",
       "      <th>name</th>\n",
       "      <th>current company</th>\n",
       "      <th>location</th>\n",
       "      <th>phone</th>\n",
       "    </tr>\n",
       "  </thead>\n",
       "  <tbody>\n",
       "    <tr>\n",
       "      <th>0</th>\n",
       "      <td>0</td>\n",
       "      <td>Tom Gottlieb</td>\n",
       "      <td>Berkshire Hathaway HS PRO</td>\n",
       "      <td>Mason, Ohio</td>\n",
       "      <td>5622254567</td>\n",
       "    </tr>\n",
       "    <tr>\n",
       "      <th>1</th>\n",
       "      <td>1</td>\n",
       "      <td>Christopher Goebel</td>\n",
       "      <td>Crossroads Advisers</td>\n",
       "      <td>Cleveland, Ohio</td>\n",
       "      <td>216-533-4533</td>\n",
       "    </tr>\n",
       "    <tr>\n",
       "      <th>2</th>\n",
       "      <td>2</td>\n",
       "      <td>Dan Long</td>\n",
       "      <td>Cincinnati Business Brokers</td>\n",
       "      <td>Cincinnati, Ohio</td>\n",
       "      <td>5133153006</td>\n",
       "    </tr>\n",
       "    <tr>\n",
       "      <th>3</th>\n",
       "      <td>3</td>\n",
       "      <td>Mike Lohbeck CBI</td>\n",
       "      <td>MGL Business Brokers - Sell Your Business Here</td>\n",
       "      <td>Cincinnati, Ohio</td>\n",
       "      <td>(513) 200-0247</td>\n",
       "    </tr>\n",
       "    <tr>\n",
       "      <th>4</th>\n",
       "      <td>4</td>\n",
       "      <td>Elias Ladon</td>\n",
       "      <td>Enterprise Development Resources, Inc.</td>\n",
       "      <td>Beachwood, Ohio</td>\n",
       "      <td>(216) 765-0845</td>\n",
       "    </tr>\n",
       "  </tbody>\n",
       "</table>\n",
       "</div>"
      ],
      "text/plain": [
       "   Unnamed: 0                name  \\\n",
       "0           0        Tom Gottlieb   \n",
       "1           1  Christopher Goebel   \n",
       "2           2            Dan Long   \n",
       "3           3    Mike Lohbeck CBI   \n",
       "4           4         Elias Ladon   \n",
       "\n",
       "                                  current company          location  \\\n",
       "0                       Berkshire Hathaway HS PRO       Mason, Ohio   \n",
       "1                             Crossroads Advisers   Cleveland, Ohio   \n",
       "2                     Cincinnati Business Brokers  Cincinnati, Ohio   \n",
       "3  MGL Business Brokers - Sell Your Business Here  Cincinnati, Ohio   \n",
       "4          Enterprise Development Resources, Inc.   Beachwood, Ohio   \n",
       "\n",
       "            phone  \n",
       "0      5622254567  \n",
       "1    216-533-4533  \n",
       "2      5133153006  \n",
       "3  (513) 200-0247  \n",
       "4  (216) 765-0845  "
      ]
     },
     "execution_count": 10,
     "metadata": {},
     "output_type": "execute_result"
    }
   ],
   "source": [
    "ibba.head()"
   ]
  },
  {
   "cell_type": "code",
   "execution_count": 5,
   "metadata": {},
   "outputs": [
    {
     "data": {
      "text/html": [
       "<div>\n",
       "<style scoped>\n",
       "    .dataframe tbody tr th:only-of-type {\n",
       "        vertical-align: middle;\n",
       "    }\n",
       "\n",
       "    .dataframe tbody tr th {\n",
       "        vertical-align: top;\n",
       "    }\n",
       "\n",
       "    .dataframe thead th {\n",
       "        text-align: right;\n",
       "    }\n",
       "</style>\n",
       "<table border=\"1\" class=\"dataframe\">\n",
       "  <thead>\n",
       "    <tr style=\"text-align: right;\">\n",
       "      <th></th>\n",
       "      <th>name</th>\n",
       "      <th>current company</th>\n",
       "      <th>current state</th>\n",
       "      <th>phone</th>\n",
       "    </tr>\n",
       "  </thead>\n",
       "  <tbody>\n",
       "    <tr>\n",
       "      <th>0</th>\n",
       "      <td>Tom Gottlieb</td>\n",
       "      <td>Berkshire Hathaway HS PRO</td>\n",
       "      <td>Mason, Ohio</td>\n",
       "      <td>5622254567</td>\n",
       "    </tr>\n",
       "    <tr>\n",
       "      <th>1</th>\n",
       "      <td>Christopher Goebel</td>\n",
       "      <td>Crossroads Advisers</td>\n",
       "      <td>Cleveland, Ohio</td>\n",
       "      <td>216-533-4533</td>\n",
       "    </tr>\n",
       "    <tr>\n",
       "      <th>2</th>\n",
       "      <td>Dan Long</td>\n",
       "      <td>Cincinnati Business Brokers</td>\n",
       "      <td>Cincinnati, Ohio</td>\n",
       "      <td>5133153006</td>\n",
       "    </tr>\n",
       "    <tr>\n",
       "      <th>3</th>\n",
       "      <td>Mike Lohbeck CBI</td>\n",
       "      <td>MGL Business Brokers - Sell Your Business Here</td>\n",
       "      <td>Cincinnati, Ohio</td>\n",
       "      <td>(513) 200-0247</td>\n",
       "    </tr>\n",
       "    <tr>\n",
       "      <th>4</th>\n",
       "      <td>Elias Ladon</td>\n",
       "      <td>Enterprise Development Resources, Inc.</td>\n",
       "      <td>Beachwood, Ohio</td>\n",
       "      <td>(216) 765-0845</td>\n",
       "    </tr>\n",
       "  </tbody>\n",
       "</table>\n",
       "</div>"
      ],
      "text/plain": [
       "                 name                                 current company  \\\n",
       "0        Tom Gottlieb                       Berkshire Hathaway HS PRO   \n",
       "1  Christopher Goebel                             Crossroads Advisers   \n",
       "2            Dan Long                     Cincinnati Business Brokers   \n",
       "3    Mike Lohbeck CBI  MGL Business Brokers - Sell Your Business Here   \n",
       "4         Elias Ladon          Enterprise Development Resources, Inc.   \n",
       "\n",
       "      current state           phone  \n",
       "0       Mason, Ohio      5622254567  \n",
       "1   Cleveland, Ohio    216-533-4533  \n",
       "2  Cincinnati, Ohio      5133153006  \n",
       "3  Cincinnati, Ohio  (513) 200-0247  \n",
       "4   Beachwood, Ohio  (216) 765-0845  "
      ]
     },
     "execution_count": 5,
     "metadata": {},
     "output_type": "execute_result"
    }
   ],
   "source": [
    "df = ibba.drop('Unnamed: 0', axis = 1)\n",
    "df.head()"
   ]
  },
  {
   "cell_type": "code",
   "execution_count": 6,
   "metadata": {},
   "outputs": [
    {
     "data": {
      "text/plain": [
       "(2582, 4)"
      ]
     },
     "execution_count": 6,
     "metadata": {},
     "output_type": "execute_result"
    }
   ],
   "source": [
    "df.shape"
   ]
  },
  {
   "cell_type": "code",
   "execution_count": 7,
   "metadata": {},
   "outputs": [
    {
     "data": {
      "text/plain": [
       "name                 0\n",
       "current company    860\n",
       "current state        0\n",
       "phone               91\n",
       "dtype: int64"
      ]
     },
     "execution_count": 7,
     "metadata": {},
     "output_type": "execute_result"
    }
   ],
   "source": [
    "df.isnull().sum()"
   ]
  },
  {
   "cell_type": "code",
   "execution_count": 8,
   "metadata": {},
   "outputs": [
    {
     "name": "stdout",
     "output_type": "stream",
     "text": [
      "                    name                                    current company  \\\n",
      "10    Russell Kitzberger  KW Commercial & Business Brokerage, Keller Wil...   \n",
      "54            Kent Adams           Transworld Business Advisors Richmond VA   \n",
      "57         Douglas Brown         Transworld Business Advisors - Richmond VA   \n",
      "59            Bill Kelly                   Transworld Business Advisors RVA   \n",
      "63       Semir Osmanovic                                   DH Brokerage Inc   \n",
      "...                  ...                                                ...   \n",
      "1596        Andrew Blain                             Next Level Consultants   \n",
      "1617   Michael Greengard                                                NaN   \n",
      "1619     Catherine Young                                                NaN   \n",
      "2086     Felipe Mardakis                             Hallefeld Realty, PLLC   \n",
      "2301       Joshua Howard                           Bluefin Capital Advisors   \n",
      "\n",
      "               current state phone  \n",
      "10          Cincinnati, Ohio   NaN  \n",
      "54      Glen Allen, Virginia   NaN  \n",
      "57      Glen Allen, Virginia   NaN  \n",
      "59        Richmond, Virginia   NaN  \n",
      "63         Ashland, Virginia   NaN  \n",
      "...                      ...   ...  \n",
      "1596    St. Joseph, Michigan   NaN  \n",
      "1617  Grand Rapids, Michigan   NaN  \n",
      "1619      Muskegon, Michigan   NaN  \n",
      "2086        Orlando, Florida   NaN  \n",
      "2301        Valrico, Florida   NaN  \n",
      "\n",
      "[91 rows x 4 columns]\n"
     ]
    }
   ],
   "source": [
    "phone_null = df[df['phone'].isnull()]\n",
    "print(phone_null)"
   ]
  },
  {
   "cell_type": "code",
   "execution_count": null,
   "metadata": {},
   "outputs": [],
   "source": []
  }
 ],
 "metadata": {
  "kernelspec": {
   "display_name": "Python 3",
   "language": "python",
   "name": "python3"
  },
  "language_info": {
   "codemirror_mode": {
    "name": "ipython",
    "version": 3
   },
   "file_extension": ".py",
   "mimetype": "text/x-python",
   "name": "python",
   "nbconvert_exporter": "python",
   "pygments_lexer": "ipython3",
   "version": "3.12.1"
  }
 },
 "nbformat": 4,
 "nbformat_minor": 2
}
